{
  "nbformat": 4,
  "nbformat_minor": 0,
  "metadata": {
    "colab": {
      "provenance": [],
      "authorship_tag": "ABX9TyMh5NjNwyIhjrah9p8SuCMX",
      "include_colab_link": true
    },
    "kernelspec": {
      "name": "python3",
      "display_name": "Python 3"
    },
    "language_info": {
      "name": "python"
    }
  },
  "cells": [
    {
      "cell_type": "markdown",
      "metadata": {
        "id": "view-in-github",
        "colab_type": "text"
      },
      "source": [
        "<a href=\"https://colab.research.google.com/github/masadlara/RetailerWebScraping/blob/main/Retailer_Web_Scraping.ipynb\" target=\"_parent\"><img src=\"https://colab.research.google.com/assets/colab-badge.svg\" alt=\"Open In Colab\"/></a>"
      ]
    },
    {
      "cell_type": "markdown",
      "source": [
        "#Retailer Web Scraping"
      ],
      "metadata": {
        "id": "zOWPjw2Vfr3-"
      }
    },
    {
      "cell_type": "markdown",
      "source": [
        "##1. Notebook Description"
      ],
      "metadata": {
        "id": "iI23FnEff21a"
      }
    },
    {
      "cell_type": "markdown",
      "source": [
        "This notebook presents a web scraping project focused on extracting product title and price information from JOR Mall, an online shopping website. The objective is to collect data for a specific product and analyze its pricing over time.\n",
        "\n",
        "The notebook begins by introducing the JOR Mall website and the target product. It then demonstrates step-by-step how to scrape the website using Python and BeautifulSoup, a popular web scraping library. The code includes establishing a connection to the website, sending HTTP requests, parsing the HTML content, and extracting relevant information.\n",
        "\n",
        "The scraping process specifically focuses on retrieving the product title and price. The notebook showcases the identification of the HTML elements containing the desired data, such as the product title and price tags. It demonstrates how to navigate the HTML structure using BeautifulSoup's methods to extract the required information accurately.\n",
        "\n",
        "Overall, this notebook serves as a comprehensive guide for web scraping the JOR Mall website, extracting product title and price information, exporting the scraped data into a CSV file, and automating the process of price checking everyday!"
      ],
      "metadata": {
        "id": "THkSjKt_sHH_"
      }
    },
    {
      "cell_type": "markdown",
      "source": [
        "##2. Introduction\n",
        "Retailer (JOR Mall) is an online shopping platform that offers a wide range of products across various categories. It provides customers with a convenient and user-friendly shopping experience, allowing them to explore and purchase products from the comfort of their homes.\n",
        "\n",
        "One of the featured products on JOR Mall is the Samsung 55\" QLED Smart 4K TV (2020) with the model number QA55Q95TAUXTW. This television model offers advanced features and high-quality visuals, making it an attractive choice for those seeking an immersive viewing experience.\n",
        "\n",
        "The Samsung 55\" QLED Smart 4K TV boasts a QLED display technology, which ensures vibrant and lifelike colors with enhanced contrast. It supports a 4K resolution, delivering sharp and detailed images. Additionally, as a smart TV, it comes equipped with built-in Wi-Fi and various connectivity options, allowing users to access online streaming services, browse the web, and connect to other devices effortlessly.\n",
        "\n",
        "With its sleek design and slim profile, the Samsung 55\" QLED Smart 4K TV adds a touch of elegance to any living space. It offers a range of features and functionalities, including voice control, multi-view capabilities, and a variety of pre-installed apps.\n",
        "\n",
        "As a flagship model from Samsung's TV lineup, the QA55Q95TAUXTW is designed to provide an exceptional viewing experience, whether you're watching movies, playing games, or enjoying your favorite TV shows. With its combination of cutting-edge technology and stylish design, this TV aims to meet the demands of discerning customers who seek both performance and aesthetics.\n",
        "\n",
        "Overall, the Samsung 55\" QLED Smart 4K TV available on JOR Mall is a top-tier television model that caters to individuals who value superior picture quality, smart features, and a visually appealing design. It offers a compelling option for those looking to upgrade their home entertainment system and enjoy an immersive viewing experience."
      ],
      "metadata": {
        "id": "yFYH1OO0CRun"
      }
    },
    {
      "cell_type": "markdown",
      "source": [
        "##3. Load Needed Libraries"
      ],
      "metadata": {
        "id": "CNWzOKRkgzGh"
      }
    },
    {
      "cell_type": "markdown",
      "source": [
        "This section shows loading the needed libraries for this case study"
      ],
      "metadata": {
        "id": "A2GPxvOdxIx0"
      }
    },
    {
      "cell_type": "code",
      "execution_count": 55,
      "metadata": {
        "id": "zlK5iX4PtSxy"
      },
      "outputs": [],
      "source": [
        "#import libraries\n",
        "from bs4 import BeautifulSoup\n",
        "import requests\n",
        "import time\n",
        "import datetime\n",
        "\n",
        "import smtplib # for sending emails to yourself"
      ]
    },
    {
      "cell_type": "markdown",
      "source": [
        "##4. Connect to Website"
      ],
      "metadata": {
        "id": "R4jWIDLnyrqW"
      }
    },
    {
      "cell_type": "code",
      "source": [
        "#Connect to Jormall Website\n",
        "URL = 'https://jormall.net/collections/electronic/products/samsung-55-qled-smart-4k-tv-2020-qa55q95tauxtw'\n",
        "\n",
        "headers = {\n",
        "    'User-Agent': 'Mozilla/5.0 (Windows NT 10.0; Win64; x64) AppleWebKit/537.36 (KHTML, like Gecko) Chrome/114.0.0.0 Safari/537.36',\n",
        "}\n",
        "\n",
        "page = requests.get(URL, headers=headers)"
      ],
      "metadata": {
        "id": "bPtBIETHwK9n"
      },
      "execution_count": 56,
      "outputs": []
    },
    {
      "cell_type": "markdown",
      "source": [
        "##5. Show HTML Code of Website"
      ],
      "metadata": {
        "id": "0VF99zcqzGzp"
      }
    },
    {
      "cell_type": "code",
      "source": [
        "#this shows the html code of the webpage\n",
        "soup = BeautifulSoup(page.content, 'html.parser')\n",
        "#print(soup)"
      ],
      "metadata": {
        "id": "dztvnmtgy8g2"
      },
      "execution_count": 73,
      "outputs": []
    },
    {
      "cell_type": "code",
      "source": [
        "#this code shows the html code of the webpage in a better format\n",
        "soup1= BeautifulSoup(soup.prettify(),\"html.parser\")\n",
        "#print(soup1)"
      ],
      "metadata": {
        "id": "K46fEihjvcVI"
      },
      "execution_count": 74,
      "outputs": []
    },
    {
      "cell_type": "markdown",
      "source": [
        "##6. Scrape Product Title & Product Price from Website"
      ],
      "metadata": {
        "id": "XRE6nHZ1zOmG"
      }
    },
    {
      "cell_type": "code",
      "source": [
        "#product title html code:\n",
        "title_html = '<h1 class=\"product-meta__title heading h1\">Samsung - 55\" QLED Smart 4K Tv (2020)</h1>'\n",
        "\n",
        "#scraping product title from webpage\n",
        "def scrape_product_title(title_html):\n",
        "    souptitle = BeautifulSoup(title_html, 'html.parser')\n",
        "    title_element = souptitle.find('h1', class_='product-meta__title')\n",
        "\n",
        "    if title_element:\n",
        "        title = title_element.get_text(strip=True)\n",
        "        return title\n",
        "    return None\n",
        "\n",
        "product_title = scrape_product_title(title_html)\n",
        "if product_title:\n",
        "    print('Product Title:', product_title)\n",
        "else:\n",
        "    print('Product title not found.')"
      ],
      "metadata": {
        "colab": {
          "base_uri": "https://localhost:8080/"
        },
        "id": "b7EzAQpFwQiz",
        "outputId": "f89b2b65-f840-43bc-dc46-221fd2658570"
      },
      "execution_count": 59,
      "outputs": [
        {
          "output_type": "stream",
          "name": "stdout",
          "text": [
            "Product Title: Samsung - 55\" QLED Smart 4K Tv (2020)\n"
          ]
        }
      ]
    },
    {
      "cell_type": "code",
      "source": [
        "#product price html code:\n",
        "price_html = '<span class=\"money\">2,189 JOD</span>'\n",
        "\n",
        "#scraping product price from webpage\n",
        "def scrape_product_price(price_html):\n",
        "    soupprice = BeautifulSoup(price_html, 'html.parser')\n",
        "    price_element = soupprice.find('span', class_='money')\n",
        "\n",
        "    if price_element:\n",
        "        price = price_element.get_text(strip=True)\n",
        "        return price\n",
        "    return None\n",
        "\n",
        "product_price = scrape_product_price(price_html)\n",
        "if product_price:\n",
        "    print('Product Price:', product_price)\n",
        "else:\n",
        "    print('Product price not found.')"
      ],
      "metadata": {
        "colab": {
          "base_uri": "https://localhost:8080/"
        },
        "id": "ihwq5vWcxiZm",
        "outputId": "51bab7ba-0289-4ee6-9b81-6153082da73d"
      },
      "execution_count": 60,
      "outputs": [
        {
          "output_type": "stream",
          "name": "stdout",
          "text": [
            "Product Price: 2,189 JOD\n"
          ]
        }
      ]
    },
    {
      "cell_type": "code",
      "source": [
        "#Print Scraped Data\n",
        "print(product_title)\n",
        "print(product_price)"
      ],
      "metadata": {
        "colab": {
          "base_uri": "https://localhost:8080/"
        },
        "id": "wOd8c6nZyBr_",
        "outputId": "04d6f406-c459-46a8-a78d-2266cf31f7fa"
      },
      "execution_count": 61,
      "outputs": [
        {
          "output_type": "stream",
          "name": "stdout",
          "text": [
            "Samsung - 55\" QLED Smart 4K Tv (2020)\n",
            "2,189 JOD\n"
          ]
        }
      ]
    },
    {
      "cell_type": "code",
      "source": [
        "#Print Date of Today\n",
        "import datetime\n",
        "today =datetime.date.today()\n",
        "print(today)"
      ],
      "metadata": {
        "colab": {
          "base_uri": "https://localhost:8080/"
        },
        "id": "ksGq1lWY3QXR",
        "outputId": "2a3c0f7c-b247-40cb-a354-09ff6007e5ed"
      },
      "execution_count": 62,
      "outputs": [
        {
          "output_type": "stream",
          "name": "stdout",
          "text": [
            "2023-07-01\n"
          ]
        }
      ]
    },
    {
      "cell_type": "code",
      "source": [
        "#Check data types of scraped data\n",
        "type(product_title)\n",
        "type(product_price)"
      ],
      "metadata": {
        "colab": {
          "base_uri": "https://localhost:8080/"
        },
        "id": "qaux439kz1nb",
        "outputId": "9796ceed-c169-4a5b-9cc5-6fa1445a773f"
      },
      "execution_count": 63,
      "outputs": [
        {
          "output_type": "execute_result",
          "data": {
            "text/plain": [
              "str"
            ]
          },
          "metadata": {},
          "execution_count": 63
        }
      ]
    },
    {
      "cell_type": "code",
      "source": [
        "type(today)"
      ],
      "metadata": {
        "colab": {
          "base_uri": "https://localhost:8080/"
        },
        "id": "tAXYHnYH6xeA",
        "outputId": "9acff21a-ba75-458d-a5ee-6aa728f1a442"
      },
      "execution_count": 64,
      "outputs": [
        {
          "output_type": "execute_result",
          "data": {
            "text/plain": [
              "datetime.date"
            ]
          },
          "metadata": {},
          "execution_count": 64
        }
      ]
    },
    {
      "cell_type": "markdown",
      "source": [
        "##7. Export to CSV"
      ],
      "metadata": {
        "id": "spjQKNFlzWNr"
      }
    },
    {
      "cell_type": "code",
      "source": [
        "#Fill Scraped Date into CSV File\n",
        "import csv\n",
        "header = ['Product_Title', 'Product_Price', 'Date']\n",
        "data = [product_title, product_price, today]\n",
        "\n",
        "with open ('JOR Mall Web Scraper.csv', 'w', newline='', encoding ='UTF8') as f:\n",
        "  writer=csv.writer(f)\n",
        "  writer.writerow(header)\n",
        "  writer.writerow(data) # the CSV file is found in the content folder if you are using Google Colab\n",
        "  #Comment this section out to make sure it is only run one time, it will delete all scraped data if you run it again after days have passed"
      ],
      "metadata": {
        "id": "eVr-Cd3Lzo1Z"
      },
      "execution_count": 67,
      "outputs": []
    },
    {
      "cell_type": "code",
      "source": [
        "#alternatively, you can use this code to download the CSV file into your local machine\n",
        "from google.colab import files\n",
        "\n",
        "files.download('JOR Mall Web Scraper.csv')"
      ],
      "metadata": {
        "colab": {
          "base_uri": "https://localhost:8080/",
          "height": 17
        },
        "id": "7l0wodvz2laS",
        "outputId": "64bea2bf-f405-4d55-e670-0da2ebdab728"
      },
      "execution_count": 68,
      "outputs": [
        {
          "output_type": "display_data",
          "data": {
            "text/plain": [
              "<IPython.core.display.Javascript object>"
            ],
            "application/javascript": [
              "\n",
              "    async function download(id, filename, size) {\n",
              "      if (!google.colab.kernel.accessAllowed) {\n",
              "        return;\n",
              "      }\n",
              "      const div = document.createElement('div');\n",
              "      const label = document.createElement('label');\n",
              "      label.textContent = `Downloading \"${filename}\": `;\n",
              "      div.appendChild(label);\n",
              "      const progress = document.createElement('progress');\n",
              "      progress.max = size;\n",
              "      div.appendChild(progress);\n",
              "      document.body.appendChild(div);\n",
              "\n",
              "      const buffers = [];\n",
              "      let downloaded = 0;\n",
              "\n",
              "      const channel = await google.colab.kernel.comms.open(id);\n",
              "      // Send a message to notify the kernel that we're ready.\n",
              "      channel.send({})\n",
              "\n",
              "      for await (const message of channel.messages) {\n",
              "        // Send a message to notify the kernel that we're ready.\n",
              "        channel.send({})\n",
              "        if (message.buffers) {\n",
              "          for (const buffer of message.buffers) {\n",
              "            buffers.push(buffer);\n",
              "            downloaded += buffer.byteLength;\n",
              "            progress.value = downloaded;\n",
              "          }\n",
              "        }\n",
              "      }\n",
              "      const blob = new Blob(buffers, {type: 'application/binary'});\n",
              "      const a = document.createElement('a');\n",
              "      a.href = window.URL.createObjectURL(blob);\n",
              "      a.download = filename;\n",
              "      div.appendChild(a);\n",
              "      a.click();\n",
              "      div.remove();\n",
              "    }\n",
              "  "
            ]
          },
          "metadata": {}
        },
        {
          "output_type": "display_data",
          "data": {
            "text/plain": [
              "<IPython.core.display.Javascript object>"
            ],
            "application/javascript": [
              "download(\"download_3d7a6133-558a-44b8-a332-f024254d8fda\", \"JOR Mall Web Scraper.csv\", 99)"
            ]
          },
          "metadata": {}
        }
      ]
    },
    {
      "cell_type": "markdown",
      "source": [
        "##8. Automating the Process of Scraping Data & Exporting to CSV Everyday"
      ],
      "metadata": {
        "id": "X6lnwML3Cvgt"
      }
    },
    {
      "cell_type": "code",
      "source": [
        "#Appending Data to the CSV || Adding more rows into our data file\n",
        "with open ('JOR Mall Web Scraper.csv', 'a+', newline='', encoding ='UTF8') as f:\n",
        "  writer=csv.writer(f)\n",
        "  writer.writerow(data)"
      ],
      "metadata": {
        "id": "22DQlbA266ti"
      },
      "execution_count": 69,
      "outputs": []
    },
    {
      "cell_type": "code",
      "source": [
        "#Automating the process of web scraping - price checking every day (grouping all previous code in this cell)\n",
        "def check_price ():\n",
        "    URL = 'https://jormall.net/collections/electronic/products/samsung-55-qled-smart-4k-tv-2020-qa55q95tauxtw'\n",
        "\n",
        "    headers = {\n",
        "    'User-Agent': 'Mozilla/5.0 (Windows NT 10.0; Win64; x64) AppleWebKit/537.36 (KHTML, like Gecko) Chrome/114.0.0.0 Safari/537.36',\n",
        "}\n",
        "\n",
        "    page = requests.get(URL, headers=headers)\n",
        "    soup = BeautifulSoup(page.content, 'html.parser')\n",
        "    soup1= BeautifulSoup(soup.prettify(),\"html.parser\")\n",
        "    #product title html code:\n",
        "    title_html = '<h1 class=\"product-meta__title heading h1\">Samsung - 55\" QLED Smart 4K Tv (2020)</h1>'\n",
        "\n",
        "#scraping product title from webpage\n",
        "    def scrape_product_title(title_html):\n",
        "        souptitle = BeautifulSoup(title_html, 'html.parser')\n",
        "        title_element = souptitle.find('h1', class_='product-meta__title')\n",
        "\n",
        "        if title_element:\n",
        "           title = title_element.get_text(strip=True)\n",
        "           return title\n",
        "        return None\n",
        "\n",
        "    product_title = scrape_product_title(title_html)\n",
        "    if product_title:\n",
        "        print('Product Title:', product_title)\n",
        "    else:\n",
        "        print('Product title not found.')\n",
        "\n",
        "    #product price html code:\n",
        "    price_html = '<span class=\"money\">2,189 JOD</span>'\n",
        "\n",
        "#scraping product price from webpage\n",
        "    def scrape_product_price(price_html):\n",
        "       soupprice = BeautifulSoup(price_html, 'html.parser')\n",
        "       price_element = soupprice.find('span', class_='money')\n",
        "\n",
        "       if price_element:\n",
        "          price = price_element.get_text(strip=True)\n",
        "          return price\n",
        "       return None\n",
        "\n",
        "    product_price = scrape_product_price(price_html)\n",
        "    if product_price:\n",
        "        print('Product Price:', product_price)\n",
        "    else:\n",
        "        print('Product price not found.')\n",
        "\n",
        "    import datetime\n",
        "    today =datetime.date.today()\n",
        "\n",
        "    import csv\n",
        "    header = ['Product_Title', 'Product_Price', 'Date']\n",
        "    data = [product_title, product_price, today]\n",
        "\n",
        "    with open ('JOR Mall Web Scraper.csv', 'a+', newline='', encoding ='UTF8') as f:\n",
        "      writer=csv.writer(f)\n",
        "      writer.writerow(data)"
      ],
      "metadata": {
        "id": "5HtZ2fAk7n0B"
      },
      "execution_count": 70,
      "outputs": []
    },
    {
      "cell_type": "code",
      "source": [
        "while(True):\n",
        "  check_price()\n",
        "  time.sleep(86400) #The scraping process of this web page will run every day to check if the price ever changes"
      ],
      "metadata": {
        "colab": {
          "base_uri": "https://localhost:8080/",
          "height": 235
        },
        "id": "HgKTlDHF9lF9",
        "outputId": "6189f527-d854-40bd-b9cb-3e2519017e35"
      },
      "execution_count": 71,
      "outputs": [
        {
          "output_type": "stream",
          "name": "stdout",
          "text": [
            "Product Title: Samsung - 55\" QLED Smart 4K Tv (2020)\n",
            "Product Price: 2,189 JOD\n"
          ]
        },
        {
          "output_type": "error",
          "ename": "KeyboardInterrupt",
          "evalue": "ignored",
          "traceback": [
            "\u001b[0;31m---------------------------------------------------------------------------\u001b[0m",
            "\u001b[0;31mKeyboardInterrupt\u001b[0m                         Traceback (most recent call last)",
            "\u001b[0;32m<ipython-input-71-8a4e06cf63e7>\u001b[0m in \u001b[0;36m<cell line: 1>\u001b[0;34m()\u001b[0m\n\u001b[1;32m      1\u001b[0m \u001b[0;32mwhile\u001b[0m\u001b[0;34m(\u001b[0m\u001b[0;32mTrue\u001b[0m\u001b[0;34m)\u001b[0m\u001b[0;34m:\u001b[0m\u001b[0;34m\u001b[0m\u001b[0;34m\u001b[0m\u001b[0m\n\u001b[1;32m      2\u001b[0m   \u001b[0mcheck_price\u001b[0m\u001b[0;34m(\u001b[0m\u001b[0;34m)\u001b[0m\u001b[0;34m\u001b[0m\u001b[0;34m\u001b[0m\u001b[0m\n\u001b[0;32m----> 3\u001b[0;31m   \u001b[0mtime\u001b[0m\u001b[0;34m.\u001b[0m\u001b[0msleep\u001b[0m\u001b[0;34m(\u001b[0m\u001b[0;36m86400\u001b[0m\u001b[0;34m)\u001b[0m \u001b[0;31m#The scraping process of this web page will run every day to check if the price ever changes\u001b[0m\u001b[0;34m\u001b[0m\u001b[0;34m\u001b[0m\u001b[0m\n\u001b[0m",
            "\u001b[0;31mKeyboardInterrupt\u001b[0m: "
          ]
        }
      ]
    },
    {
      "cell_type": "code",
      "source": [
        "from google.colab import files\n",
        "\n",
        "files.download('JOR Mall Web Scraper.csv')"
      ],
      "metadata": {
        "colab": {
          "base_uri": "https://localhost:8080/",
          "height": 17
        },
        "id": "ZIfakDsP-9xi",
        "outputId": "77508a1c-f14a-457d-8775-d8ebb0f87400"
      },
      "execution_count": 72,
      "outputs": [
        {
          "output_type": "display_data",
          "data": {
            "text/plain": [
              "<IPython.core.display.Javascript object>"
            ],
            "application/javascript": [
              "\n",
              "    async function download(id, filename, size) {\n",
              "      if (!google.colab.kernel.accessAllowed) {\n",
              "        return;\n",
              "      }\n",
              "      const div = document.createElement('div');\n",
              "      const label = document.createElement('label');\n",
              "      label.textContent = `Downloading \"${filename}\": `;\n",
              "      div.appendChild(label);\n",
              "      const progress = document.createElement('progress');\n",
              "      progress.max = size;\n",
              "      div.appendChild(progress);\n",
              "      document.body.appendChild(div);\n",
              "\n",
              "      const buffers = [];\n",
              "      let downloaded = 0;\n",
              "\n",
              "      const channel = await google.colab.kernel.comms.open(id);\n",
              "      // Send a message to notify the kernel that we're ready.\n",
              "      channel.send({})\n",
              "\n",
              "      for await (const message of channel.messages) {\n",
              "        // Send a message to notify the kernel that we're ready.\n",
              "        channel.send({})\n",
              "        if (message.buffers) {\n",
              "          for (const buffer of message.buffers) {\n",
              "            buffers.push(buffer);\n",
              "            downloaded += buffer.byteLength;\n",
              "            progress.value = downloaded;\n",
              "          }\n",
              "        }\n",
              "      }\n",
              "      const blob = new Blob(buffers, {type: 'application/binary'});\n",
              "      const a = document.createElement('a');\n",
              "      a.href = window.URL.createObjectURL(blob);\n",
              "      a.download = filename;\n",
              "      div.appendChild(a);\n",
              "      a.click();\n",
              "      div.remove();\n",
              "    }\n",
              "  "
            ]
          },
          "metadata": {}
        },
        {
          "output_type": "display_data",
          "data": {
            "text/plain": [
              "<IPython.core.display.Javascript object>"
            ],
            "application/javascript": [
              "download(\"download_37ba3489-8cbc-48c0-adce-f8d99d8afef6\", \"JOR Mall Web Scraper.csv\", 229)"
            ]
          },
          "metadata": {}
        }
      ]
    },
    {
      "cell_type": "markdown",
      "source": [
        "##General Note for Web Scraping Projects:\n",
        "The employed code sometimes succeeds to scrape data from the website and sometimes it does not, as some websites employ various techniques to prevent web scraping and automated data extraction from their website. They may use measures such as CAPTCHA challenges, IP blocking, user agent detection, and dynamic HTML structures to make scraping more difficult.\n",
        "\n",
        "In some cases, Amazon may change the HTML structure or class names of elements on their website, which can cause scraping code to break or result in \"Product title not found\" errors. This is done intentionally to deter automated scraping and protect their data."
      ],
      "metadata": {
        "id": "4viJ7Cnz-TRX"
      }
    }
  ]
}